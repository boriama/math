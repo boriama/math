{
 "cells": [
  {
   "cell_type": "markdown",
   "id": "c5fae0fc",
   "metadata": {},
   "source": [
    "# Тема “Предел функции”"
   ]
  },
  {
   "cell_type": "markdown",
   "id": "5418d29b",
   "metadata": {},
   "source": [
    "### Задание 1\n"
   ]
  },
  {
   "cell_type": "markdown",
   "id": "29f8dabf",
   "metadata": {},
   "source": [
    "Предложить пример функции, не имеющей предела в нуле и в бесконечностях."
   ]
  },
  {
   "cell_type": "markdown",
   "id": "809bcf6b",
   "metadata": {},
   "source": [
    "$\\\\lim_{x \\\\to \\\\infty} \\\\frac{3x^2+x+1}{4x^2+4x-5} \\\\to \\\\frac{3}{4}$"
   ]
  },
  {
   "cell_type": "markdown",
   "id": "a982d159",
   "metadata": {},
   "source": [
    "### Задание 2\n"
   ]
  },
  {
   "cell_type": "markdown",
   "id": "287bb23e",
   "metadata": {},
   "source": [
    "### Задание 3"
   ]
  },
  {
   "cell_type": "markdown",
   "id": "d2c6013a",
   "metadata": {},
   "source": [
    "Исследовать функцию $$f(x) = x^3-x^2$$"
   ]
  },
  {
   "cell_type": "code",
   "execution_count": 1,
   "id": "3c991554",
   "metadata": {},
   "outputs": [],
   "source": [
    "import matplotlib.pyplot as plt\n",
    "%matplotlib inline\n",
    "import numpy as np"
   ]
  },
  {
   "cell_type": "code",
   "execution_count": 2,
   "id": "c185449c",
   "metadata": {},
   "outputs": [
    {
     "data": {
      "text/plain": [
       "(-1.0, 1.0)"
      ]
     },
     "execution_count": 2,
     "metadata": {},
     "output_type": "execute_result"
    },
    {
     "data": {
      "image/png": "[encoded data removed]",
      "text/plain": [
       "<Figure size 432x288 with 1 Axes>"
      ]
     },
     "metadata": {
      "needs_background": "light"
     },
     "output_type": "display_data"
    }
   ],
   "source": [
    "x = np.arange(-1.5,2,0.1)\n",
    "f = lambda x: x**3 - x**2\n",
    "\n",
    "plt.plot(x,f(x));\n",
    "plt.axhline(0, color='black', linestyle='-.')\n",
    "plt.axvline(0, linestyle='--', color='black')\n",
    "plt.axvline(2/3, linestyle='--', color='black')\n",
    "plt.xlim(-1,1.5)\n",
    "plt.ylim(-1,1)"
   ]
  },
  {
   "cell_type": "markdown",
   "id": "381ade75",
   "metadata": {},
   "source": [
    "а. Область определения $$D(f)= (-infty, infty)$$\n",
    "Область значений $$(-infty, infty)$$"
   ]
  },
  {
   "cell_type": "markdown",
   "id": "a8d73deb",
   "metadata": {},
   "source": [
    "б.$$f(x)= x^3 - x^2 = x^2(x-1) => x_1= 0, x_2=1$$\n"
   ]
  },
  {
   "cell_type": "markdown",
   "id": "049d95df",
   "metadata": {},
   "source": [
    "в. $$f(x)<0 , x \\\\in (-\\\\infty;0) \\\\cup (0;1)$$\n",
    "    $$f(x)>0 , x \\\\in (1;\\\\infty)$$"
   ]
  },
  {
   "cell_type": "markdown",
   "id": "66f4f013",
   "metadata": {},
   "source": [
    "г. $$f'(x)= 3x^2 - 2x= x^2(3x-2)$$\n",
    "область возрастания $$x \\\\in (-\\\\infty;0) \\\\cup (\\\\frac23;\\\\infty)$$\n",
    "область убывания $$x \\\\in (0;\\\\frac23)$$\""
   ]
  },
  {
   "cell_type": "markdown",
   "id": "bac0bd38",
   "metadata": {},
   "source": [
    "д. Проверим на четность: $$f(-x) = -x^3 -x^2 \\\\neq f(x)$$, значит функия не является четной.\n",
    "Проверим на нечетность: $$-f(x) = -x^3 + x^2 \\\\neq f(-x)$$, значит функция не является нечетной."
   ]
  },
  {
   "cell_type": "markdown",
   "id": "c67a072a",
   "metadata": {},
   "source": [
    "е. функция не является ограниченной."
   ]
  },
  {
   "cell_type": "markdown",
   "id": "16505a4e",
   "metadata": {},
   "source": [
    "ж. $$f(x-T) = (x-T)^3 - (x-T)^2= (x-T)^2(x-T-1)$$\n",
    "   $$f(x+T) = (x+T)^3 - (x+T)^2= (x+T)^2(x+T-1) \\\\neq f(x-T)$$\n",
    "    функция не является периодичной"
   ]
  },
  {
   "cell_type": "markdown",
   "id": "b4ff84e6",
   "metadata": {},
   "source": [
    "### Задание 4 \n"
   ]
  },
  {
   "cell_type": "markdown",
   "id": "55e3fff0",
   "metadata": {},
   "source": [
    "а. $$\\\\lim_{x \\\\to 0} \\\\frac{3x^3-2x^2}{4x^2} = \\\\lim_{x \\\\to 0}(\\\\frac34 x - \\\\frac12) \\\\to -\\\\frac{1}{2}$$\n",
    "б. $$\\\\lim_{x \\\\to 0} \\\\frac{\\\\sqrt{1+x}-1}{\\\\sqrt[3]{1+x}-1} = \\\\lim_{x \\\\to 0} \\\\frac{(\\\\sqrt[3]{1+x}-1)((1+x)^{\\\\frac{3}{2}} + \\\\sqrt[3]{1+x} + 1)}{\\\\sqrt[3]{1+x}-1} = \\\\lim_{x \\\\to 0} ((1+x)^{\\\\frac{3}{2}} + \\\\sqrt[3]{1+x} + 1) \\\\to 1$$\n",
    "в. $$\\\\lim_{x \\\\to \\\\infty} (\\\\frac{x + 3}{x})^{4x+1} =\n",
    "    \\\\lim_{x \\\\to \\\\infty} (1 + \\\\frac{3}{x})^{4x+1} =\n",
    "    \\\\lim_{x \\\\to \\\\infty}  ((1 + \\\\frac{3}{x})^{x})^{(4+\\\\frac{1}{x})} =\n",
    "    (e^3)^{(4 + \\\\frac1x)} = e^{12} $$"
   ]
  },
  {
   "cell_type": "markdown",
   "id": "0cba52f1",
   "metadata": {},
   "source": [
    "# Тема “Теоремы о пределах” "
   ]
  },
  {
   "cell_type": "markdown",
   "id": "7ef727f9",
   "metadata": {},
   "source": [
    "Найти предел:\n"
   ]
  },
  {
   "cell_type": "markdown",
   "id": "a6012683",
   "metadata": {},
   "source": [
    "1. $$\\\\lim_{x \\\\to 0} \\\\frac{\\\\sin{(2x)}}{4x} \\\\left [ \\\\frac00 \\\\right ]\n",
    "    \\\\begin{bmatrix}\n",
    "    t = 2x \\\\\\\\ t \\\\to 0 \\\\\\\\ x = \\\\frac{t}{2}\n",
    "    \\\\end{bmatrix} = \\\\lim_{t \\\\to 0} \\\\frac{\\\\sin{t}}{2t} = \\\\frac12$$"
   ]
  },
  {
   "cell_type": "markdown",
   "id": "52e9b467",
   "metadata": {},
   "source": [
    " 2. $$\\\\lim_{x \\\\to 0} \\\\frac{x}{\\\\sin{(x)}} = \\\\lim_{x \\\\to 0} (\\\\frac{\\\\sin{(x)}}{x})^{-1} = 1^{-1}= 1$$"
   ]
  },
  {
   "cell_type": "markdown",
   "id": "a39298d2",
   "metadata": {},
   "source": [
    "3. $$\\\\lim_{x \\\\to 0} \\\\frac{x}{\\\\arcsin{(x)}} = \\\\lim_{x \\\\to 0} (\\\\frac{\\\\arcsin{(x)}}{x})^{-1} = 1^{-1} = 1$$"
   ]
  },
  {
   "cell_type": "code",
   "execution_count": null,
   "id": "5a0de579",
   "metadata": {},
   "outputs": [],
   "source": [
    "4. $$\\\\lim_{x \\\\to \\\\infty} (\\\\frac{4x + 3}{4x - 3})^{6x} =\n",
    "    \\\\lim_{x \\\\to \\\\infty} (1+ \\\\frac{4x + 3}{4x - 3} - 1)^{6x} =\n",
    "    \\\\lim_{x \\\\to \\\\infty} (1+ \\\\frac{4x + 3 -4x +3}{4x - 3})^{6x} =\n",
    "    \\\\lim_{x \\\\to \\\\infty} (1+ \\\\frac{6}{4x - 3})^{6x} =\n",
    "    \\\\lim_{x \\\\to \\\\infty} ((1+ \\\\frac{6}{4x - 3})^{\\\\frac{4x - 3}{6}})^{6x\\\\frac{6}{4x-3}} =\n",
    "    \\\\lim_{x \\\\to \\\\infty} e^{\\\\frac{36x}{4x-3}} =\n",
    "    e^{\\\\lim_{x \\\\to \\\\infty} \\\\frac{36x}{4x-3}} = \n",
    "    e^{\\\\lim_{x \\\\to \\\\infty} 9} = e^9\n",
    "    $$"
   ]
  }
 ],
 "metadata": {
  "kernelspec": {
   "display_name": "Python 3",
   "language": "python",
   "name": "python3"
  },
  "language_info": {
   "codemirror_mode": {
    "name": "ipython",
    "version": 3
   },
   "file_extension": ".py",
   "mimetype": "text/x-python",
   "name": "python",
   "nbconvert_exporter": "python",
   "pygments_lexer": "ipython3",
   "version": "3.8.8"
  }
 },
 "nbformat": 4,
 "nbformat_minor": 5
}
